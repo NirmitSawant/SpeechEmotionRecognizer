{
  "nbformat": 4,
  "nbformat_minor": 0,
  "metadata": {
    "language_info": {
      "codemirror_mode": {
        "name": "ipython",
        "version": 3
      },
      "file_extension": ".py",
      "mimetype": "text/x-python",
      "name": "python",
      "nbconvert_exporter": "python",
      "pygments_lexer": "ipython3",
      "version": "3.8.3"
    },
    "orig_nbformat": 2,
    "kernelspec": {
      "name": "python383jvsc74a57bd0ae3a7a313373f7f447fc691ce25263765c897287b7159917c85bf45affea1163",
      "display_name": "Python 3.8.3 32-bit"
    },
    "metadata": {
      "interpreter": {
        "hash": "ae3a7a313373f7f447fc691ce25263765c897287b7159917c85bf45affea1163"
      }
    },
    "colab": {
      "name": "project.ipynb",
      "provenance": [],
      "collapsed_sections": [
        "KxwIs3bsGZlE"
      ]
    }
  },
  "cells": [
    {
      "cell_type": "markdown",
      "metadata": {
        "id": "mKLx5owo-CkI"
      },
      "source": [
        "# **SPEECH EMOTION RECOGNITION**\n",
        "### **Recognizing human emotion has always been a fascinating task for data scientists. Lately, I am working on an experimental Speech Emotion Recognition (SER) project to explore its potential**\n"
      ]
    },
    {
      "cell_type": "markdown",
      "metadata": {
        "id": "KxwIs3bsGZlE"
      },
      "source": [
        "### **Installation of Packages**\n",
        "We have used librosa, numpy, soundfile, sklearn, numba and PyAudio."
      ]
    },
    {
      "cell_type": "code",
      "metadata": {
        "id": "vW5yB_C1-BTC"
      },
      "source": [
        "!pip3 install librosa==0.6.3 numpy soundfile==0.9.0 sklearn numba==0.48"
      ],
      "execution_count": 2,
      "outputs": [
        {
          "output_type": "stream",
          "name": "stdout",
          "text": [
            "Requirement already satisfied: librosa==0.6.3 in c:\\users\\sawan\\appdata\\local\\programs\\python\\python38-32\\lib\\site-packages (0.6.3)\n",
            "Requirement already satisfied: numpy in c:\\users\\sawan\\appdata\\local\\programs\\python\\python38-32\\lib\\site-packages (1.19.2)\n",
            "Requirement already satisfied: soundfile==0.9.0 in c:\\users\\sawan\\appdata\\local\\programs\\python\\python38-32\\lib\\site-packages (0.9.0)\n",
            "Requirement already satisfied: sklearn in c:\\users\\sawan\\appdata\\local\\programs\\python\\python38-32\\lib\\site-packages (0.0)\n",
            "Requirement already satisfied: numba==0.48 in c:\\users\\sawan\\appdata\\local\\programs\\python\\python38-32\\lib\\site-packages (0.48.0)\n",
            "Requirement already satisfied: scikit-learn!=0.19.0,>=0.14.0 in c:\\users\\sawan\\appdata\\local\\programs\\python\\python38-32\\lib\\site-packages (from librosa==0.6.3) (1.0.dev0)\n",
            "Requirement already satisfied: joblib>=0.12 in c:\\users\\sawan\\appdata\\local\\programs\\python\\python38-32\\lib\\site-packages (from librosa==0.6.3) (1.0.1)\n",
            "Requirement already satisfied: audioread>=2.0.0 in c:\\users\\sawan\\appdata\\local\\programs\\python\\python38-32\\lib\\site-packages (from librosa==0.6.3) (2.1.9)\n",
            "Requirement already satisfied: scipy>=1.0.0 in c:\\users\\sawan\\appdata\\local\\programs\\python\\python38-32\\lib\\site-packages (from librosa==0.6.3) (1.6.3)\n",
            "Requirement already satisfied: six>=1.3 in c:\\users\\sawan\\appdata\\roaming\\python\\python38\\site-packages (from librosa==0.6.3) (1.15.0)\n",
            "Requirement already satisfied: decorator>=3.0.0 in c:\\users\\sawan\\appdata\\roaming\\python\\python38\\site-packages (from librosa==0.6.3) (4.4.2)\n",
            "Requirement already satisfied: resampy>=0.2.0 in c:\\users\\sawan\\appdata\\local\\programs\\python\\python38-32\\lib\\site-packages (from librosa==0.6.3) (0.2.2)\n",
            "Requirement already satisfied: cffi>=0.6 in c:\\users\\sawan\\appdata\\local\\programs\\python\\python38-32\\lib\\site-packages (from soundfile==0.9.0) (1.14.5)\n",
            "Requirement already satisfied: llvmlite<0.32.0,>=0.31.0dev0 in c:\\users\\sawan\\appdata\\local\\programs\\python\\python38-32\\lib\\site-packages (from numba==0.48) (0.31.0)\n",
            "Requirement already satisfied: setuptools in c:\\users\\sawan\\appdata\\local\\programs\\python\\python38-32\\lib\\site-packages (from numba==0.48) (41.2.0)\n",
            "Requirement already satisfied: pycparser in c:\\users\\sawan\\appdata\\local\\programs\\python\\python38-32\\lib\\site-packages (from cffi>=0.6->soundfile==0.9.0) (2.20)\n",
            "Requirement already satisfied: threadpoolctl>=2.0.0 in c:\\users\\sawan\\appdata\\local\\programs\\python\\python38-32\\lib\\site-packages (from scikit-learn!=0.19.0,>=0.14.0->librosa==0.6.3) (2.1.0)\n"
          ]
        }
      ]
    },
    {
      "cell_type": "markdown",
      "metadata": {
        "id": "cmY7Vx02HSHj"
      },
      "source": [
        "We are using PyAudio for later testing!"
      ]
    },
    {
      "cell_type": "code",
      "metadata": {
        "id": "q9qr_-nh-BTE"
      },
      "source": [
        "!pip install PyAudio"
      ],
      "execution_count": 1,
      "outputs": [
        {
          "output_type": "stream",
          "name": "stdout",
          "text": [
            "Requirement already satisfied: PyAudio in c:\\users\\sawan\\appdata\\local\\programs\\python\\python38-32\\lib\\site-packages (0.2.11)\n"
          ]
        }
      ]
    },
    {
      "cell_type": "markdown",
      "metadata": {
        "id": "0nueSwgaHavY"
      },
      "source": [
        "## **Imports**"
      ]
    },
    {
      "cell_type": "code",
      "metadata": {
        "id": "S-AeVVK5-BTF"
      },
      "source": [
        "import soundfile # to read audio file\n",
        "import numpy as np\n",
        "import librosa # to extract speech features\n",
        "import glob\n",
        "import os\n",
        "import pickle # to save model after training\n",
        "from sklearn.model_selection import train_test_split # for splitting training and testing\n",
        "from sklearn.neural_network import MLPClassifier # multi-layer perceptron model\n",
        "from sklearn.metrics import accuracy_score # to measure how good we are"
      ],
      "execution_count": 3,
      "outputs": []
    },
    {
      "cell_type": "markdown",
      "metadata": {
        "id": "pu2WJOETHnt2"
      },
      "source": [
        "## Feature Extraction \n",
        "As you all know, our voice has various features of which we would be including a few to determine the emotions of the person speaking it!\n"
      ]
    },
    {
      "cell_type": "code",
      "metadata": {
        "id": "7JKOzyTC-BTG"
      },
      "source": [
        "def extract_feature(file_name, **kwargs):\n",
        "    \"\"\"\n",
        "    Extract feature from audio file `file_name`\n",
        "        Features supported:\n",
        "            - MFCC (mfcc)\n",
        "            - Chroma (chroma)\n",
        "            - MEL Spectrogram Frequency (mel)\n",
        "            - Contrast (contrast)\n",
        "            - Tonnetz (tonnetz)\n",
        "        e.g:\n",
        "        `features = extract_feature(path, mel=True, mfcc=True)`\n",
        "    \"\"\"\n",
        "    mfcc = kwargs.get(\"mfcc\")\n",
        "    chroma = kwargs.get(\"chroma\")\n",
        "    mel = kwargs.get(\"mel\")\n",
        "    contrast = kwargs.get(\"contrast\")\n",
        "    tonnetz = kwargs.get(\"tonnetz\")\n",
        "    with soundfile.SoundFile(file_name) as sound_file:\n",
        "        X = sound_file.read(dtype=\"float32\")\n",
        "        sample_rate = sound_file.samplerate\n",
        "        if chroma or contrast:\n",
        "            stft = np.abs(librosa.stft(X))\n",
        "        result = np.array([])\n",
        "        if mfcc:\n",
        "            mfccs = np.mean(librosa.feature.mfcc(y=X, sr=sample_rate, n_mfcc=40).T, axis=0)\n",
        "            result = np.hstack((result, mfccs))\n",
        "        if chroma:\n",
        "            chroma = np.mean(librosa.feature.chroma_stft(S=stft, sr=sample_rate).T,axis=0)\n",
        "            result = np.hstack((result, chroma))\n",
        "        if mel:\n",
        "            mel = np.mean(librosa.feature.melspectrogram(X, sr=sample_rate).T,axis=0)\n",
        "            result = np.hstack((result, mel))\n",
        "        if contrast:\n",
        "            contrast = np.mean(librosa.feature.spectral_contrast(S=stft, sr=sample_rate).T,axis=0)\n",
        "            result = np.hstack((result, contrast))\n",
        "        if tonnetz:\n",
        "            tonnetz = np.mean(librosa.feature.tonnetz(y=librosa.effects.harmonic(X), sr=sample_rate).T,axis=0)\n",
        "            result = np.hstack((result, tonnetz))\n",
        "    return result"
      ],
      "execution_count": 4,
      "outputs": []
    },
    {
      "cell_type": "markdown",
      "metadata": {
        "id": "X6ggBaYdIjGH"
      },
      "source": [
        "## Loading the dataset\n",
        "Here we store and send the audio files from the dataset to extraction. This process removes the unneccasary audio files."
      ]
    },
    {
      "cell_type": "code",
      "metadata": {
        "id": "4vkVIBfW-BTH"
      },
      "source": [
        "# all emotions on RAVDESS dataset\n",
        "int2emotion = {\n",
        "    \"01\": \"neutral\",\n",
        "    \"02\": \"calm\",\n",
        "    \"03\": \"happy\",\n",
        "    \"04\": \"sad\",\n",
        "    \"05\": \"angry\",\n",
        "    \"06\": \"fearful\",\n",
        "    \"07\": \"disgust\",\n",
        "    \"08\": \"surprised\"\n",
        "}\n",
        "\n",
        "# we allow only these emotions ( feel free to tune this on your need )\n",
        "AVAILABLE_EMOTIONS = {\n",
        "    \"angry\",\n",
        "    \"sad\",\n",
        "    \"neutral\",\n",
        "    \"happy\"\n",
        "}\n",
        "\n",
        "def load_data(test_size=0.2):\n",
        "    X, y = [], []\n",
        "    for file in glob.glob(\"data/Actor_*/*.wav\"):\n",
        "        # get the base name of the audio file\n",
        "        basename = os.path.basename(file)\n",
        "        # get the emotion label\n",
        "        emotion = int2emotion[basename.split(\"-\")[2]]\n",
        "        # we allow only AVAILABLE_EMOTIONS we set\n",
        "        if emotion not in AVAILABLE_EMOTIONS:\n",
        "            continue\n",
        "        # extract speech features\n",
        "        features = extract_feature(file, mfcc=True, chroma=True, mel=True)\n",
        "        # add to data\n",
        "        X.append(features)\n",
        "        y.append(emotion)\n",
        "    # split the data to training and testing and return it\n",
        "    return train_test_split(np.array(X), y, test_size=test_size, random_state=7)"
      ],
      "execution_count": 5,
      "outputs": []
    },
    {
      "source": [
        "## Splitting the Data"
      ],
      "cell_type": "markdown",
      "metadata": {
        "id": "ggzhAu7GJD0W"
      }
    },
    {
      "cell_type": "code",
      "metadata": {
        "id": "41me-0I7-BTI"
      },
      "source": [
        "X_train, X_test, y_train, y_test = load_data(test_size=0.25)"
      ],
      "execution_count": 6,
      "outputs": []
    },
    {
      "cell_type": "code",
      "metadata": {
        "id": "GgB84BbP-BTI"
      },
      "source": [
        "print(\"[+] Number of training samples:\", X_train.shape[0])\n",
        "# number of samples in testing data\n",
        "print(\"[+] Number of testing samples:\", X_test.shape[0])\n",
        "# number of features used\n",
        "# this is a vector of features extracted \n",
        "# using extract_features() function\n",
        "print(\"[+] Number of features:\", X_train.shape[1])"
      ],
      "execution_count": 7,
      "outputs": [
        {
          "output_type": "stream",
          "name": "stdout",
          "text": [
            "[+] Number of training samples: 504\n[+] Number of testing samples: 168\n[+] Number of features: 180\n"
          ]
        }
      ]
    },
    {
      "source": [
        "## Choosing parameters for the model"
      ],
      "cell_type": "markdown",
      "metadata": {
        "id": "vC776Be6JKex"
      }
    },
    {
      "cell_type": "code",
      "metadata": {
        "id": "rLmeQUjz-BTJ"
      },
      "source": [
        "model_params = {\n",
        "    'alpha': 0.01,\n",
        "    'batch_size': 256,\n",
        "    'epsilon': 1e-08, \n",
        "    'hidden_layer_sizes': (300,), \n",
        "    'learning_rate': 'adaptive', \n",
        "    'max_iter': 500, \n",
        "}"
      ],
      "execution_count": 8,
      "outputs": []
    },
    {
      "cell_type": "markdown",
      "metadata": {
        "id": "6hnBaw5IJbDZ"
      },
      "source": [
        "## Creating the model"
      ]
    },
    {
      "cell_type": "code",
      "metadata": {
        "id": "M_DG8M3l-BTJ"
      },
      "source": [
        "model = MLPClassifier(**model_params)"
      ],
      "execution_count": 9,
      "outputs": []
    },
    {
      "cell_type": "code",
      "metadata": {
        "id": "2XobiHRj-BTK",
        "outputId": "319e45c8-6d05-4fc2-d319-16b3e1c787c6"
      },
      "source": [
        "print(\"[*] Training the model...\")\n",
        "model.fit(X_train, y_train)"
      ],
      "execution_count": 10,
      "outputs": [
        {
          "output_type": "stream",
          "name": "stdout",
          "text": [
            "[*] Training the model...\n"
          ]
        },
        {
          "output_type": "execute_result",
          "data": {
            "text/plain": [
              "MLPClassifier(alpha=0.01, batch_size=256, hidden_layer_sizes=(300,),\n",
              "              learning_rate='adaptive', max_iter=500)"
            ]
          },
          "metadata": {},
          "execution_count": 10
        }
      ]
    },
    {
      "cell_type": "markdown",
      "metadata": {
        "id": "Las_LxhoJg74"
      },
      "source": [
        "## Testing the model"
      ]
    },
    {
      "cell_type": "code",
      "metadata": {
        "id": "tlU0IW1b-BTK",
        "outputId": "bc7f83ad-b94c-409c-b402-35e9a30ad908"
      },
      "source": [
        "y_pred = model.predict(X_test)\n",
        "\n",
        "# calculate the accuracy\n",
        "accuracy = accuracy_score(y_true=y_test, y_pred=y_pred)\n",
        "\n",
        "print(\"Accuracy: {:.2f}%\".format(accuracy*100))"
      ],
      "execution_count": 11,
      "outputs": [
        {
          "output_type": "stream",
          "name": "stdout",
          "text": [
            "Accuracy: 71.43%\n"
          ]
        }
      ]
    },
    {
      "cell_type": "markdown",
      "metadata": {
        "id": "7iiygUv0JlXI"
      },
      "source": [
        "## Storing the model"
      ]
    },
    {
      "cell_type": "code",
      "metadata": {
        "id": "woDRItSm-BTL"
      },
      "source": [
        "if not os.path.isdir(\"result\"):\n",
        "    os.mkdir(\"result\")\n",
        "\n",
        "pickle.dump(model, open(\"result/mlp_classifier.model\", \"wb\"))"
      ],
      "execution_count": 12,
      "outputs": []
    },
    {
      "cell_type": "markdown",
      "metadata": {
        "id": "uorzuhtRJpQI"
      },
      "source": [
        "## Testing the model\n"
      ]
    },
    {
      "cell_type": "code",
      "metadata": {
        "id": "bKlY-tRH-BTL",
        "outputId": "81c879a9-96e3-40b3-ef64-14831e6b5bcf"
      },
      "source": [
        "import pyaudio\n",
        "import os\n",
        "import wave\n",
        "import pickle\n",
        "from sys import byteorder\n",
        "from array import array\n",
        "from struct import pack\n",
        "from sklearn.neural_network import MLPClassifier\n",
        "\n",
        "\n",
        "THRESHOLD = 500\n",
        "CHUNK_SIZE = 1024\n",
        "FORMAT = pyaudio.paInt16\n",
        "RATE = 16000\n",
        "\n",
        "SILENCE = 30\n",
        "\n",
        "def is_silent(snd_data):\n",
        "    \"Returns 'True' if below the 'silent' threshold\"\n",
        "    return max(snd_data) < THRESHOLD\n",
        "\n",
        "def normalize(snd_data):\n",
        "    \"Average the volume out\"\n",
        "    MAXIMUM = 16384\n",
        "    times = float(MAXIMUM)/max(abs(i) for i in snd_data)\n",
        "\n",
        "    r = array('h')\n",
        "    for i in snd_data:\n",
        "        r.append(int(i*times))\n",
        "    return r\n",
        "\n",
        "def trim(snd_data):\n",
        "    \"Trim the blank spots at the start and end\"\n",
        "    def _trim(snd_data):\n",
        "        snd_started = False\n",
        "        r = array('h')\n",
        "\n",
        "        for i in snd_data:\n",
        "            if not snd_started and abs(i)>THRESHOLD:\n",
        "                snd_started = True\n",
        "                r.append(i)\n",
        "\n",
        "            elif snd_started:\n",
        "                r.append(i)\n",
        "        return r\n",
        "\n",
        "    # Trim to the left\n",
        "    snd_data = _trim(snd_data)\n",
        "\n",
        "    # Trim to the right\n",
        "    snd_data.reverse()\n",
        "    snd_data = _trim(snd_data)\n",
        "    snd_data.reverse()\n",
        "    return snd_data\n",
        "\n",
        "def add_silence(snd_data, seconds):\n",
        "    \"Add silence to the start and end of 'snd_data' of length 'seconds' (float)\"\n",
        "    r = array('h', [0 for i in range(int(seconds*RATE))])\n",
        "    r.extend(snd_data)\n",
        "    r.extend([0 for i in range(int(seconds*RATE))])\n",
        "    return r\n",
        "\n",
        "def record():\n",
        "    \"\"\"\n",
        "    Record a word or words from the microphone and \n",
        "    return the data as an array of signed shorts.\n",
        "    Normalizes the audio, trims silence from the \n",
        "    start and end, and pads with 0.5 seconds of \n",
        "    blank sound to make sure VLC et al can play \n",
        "    it without getting chopped off.\n",
        "    \"\"\"\n",
        "    p = pyaudio.PyAudio()\n",
        "    stream = p.open(format=FORMAT, channels=1, rate=RATE,\n",
        "        input=True, output=True,\n",
        "        frames_per_buffer=CHUNK_SIZE)\n",
        "\n",
        "    num_silent = 0\n",
        "    snd_started = False\n",
        "\n",
        "    r = array('h')\n",
        "\n",
        "    while 1:\n",
        "        # little endian, signed short\n",
        "        snd_data = array('h', stream.read(CHUNK_SIZE))\n",
        "        if byteorder == 'big':\n",
        "            snd_data.byteswap()\n",
        "        r.extend(snd_data)\n",
        "\n",
        "        silent = is_silent(snd_data)\n",
        "\n",
        "        if silent and snd_started:\n",
        "            num_silent += 1\n",
        "        elif not silent and not snd_started:\n",
        "            snd_started = True\n",
        "\n",
        "        if snd_started and num_silent > SILENCE:\n",
        "            break\n",
        "\n",
        "    sample_width = p.get_sample_size(FORMAT)\n",
        "    stream.stop_stream()\n",
        "    stream.close()\n",
        "    p.terminate()\n",
        "\n",
        "    r = normalize(r)\n",
        "    r = trim(r)\n",
        "    r = add_silence(r, 0.5)\n",
        "    return sample_width, r\n",
        "\n",
        "def record_to_file(path):\n",
        "    \"Records from the microphone and outputs the resulting data to 'path'\"\n",
        "    sample_width, data = record()\n",
        "    data = pack('<' + ('h'*len(data)), *data)\n",
        "\n",
        "    wf = wave.open(path, 'wb')\n",
        "    wf.setnchannels(1)\n",
        "    wf.setsampwidth(sample_width)\n",
        "    wf.setframerate(RATE)\n",
        "    wf.writeframes(data)\n",
        "    wf.close()\n",
        "\n",
        "\n",
        "\n",
        "if __name__ == \"__main__\":\n",
        "    # load the saved model (after training)\n",
        "    model = pickle.load(open(\"result/mlp_classifier.model\", \"rb\"))\n",
        "    print(\"Please talk\")\n",
        "    filename = \"test.wav\"\n",
        "    # record the file (start talking)\n",
        "    record_to_file(filename)\n",
        "    # extract features and reshape it\n",
        "    features = extract_feature(filename, mfcc=True, chroma=True, mel=True).reshape(1, -1)\n",
        "    # predict\n",
        "    result = model.predict(features)[0]\n",
        "    # show the result !\n",
        "    print(\"result:\", result)\n",
        "    "
      ],
      "execution_count": 14,
      "outputs": [
        {
          "output_type": "stream",
          "name": "stdout",
          "text": [
            "Please talk\n",
            "result: happy\n"
          ]
        }
      ]
    },
    {
      "cell_type": "code",
      "execution_count": null,
      "metadata": {},
      "outputs": [],
      "source": []
    }
  ]
}